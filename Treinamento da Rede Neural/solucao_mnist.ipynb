{
 "cells": [
  {
   "cell_type": "markdown",
   "metadata": {
    "id": "8j878M6uZdei"
   },
   "source": [
    "# Treinamento de 4 modelos - modelo multinomial logístico e modelos de redes MLP com 1, 2 e 3 camadas - para identificação de dígitos de 0 a 9 escritos à mão. Para isso, foi feito o download dos dados MNIST de treino e de teste disponíveis por exemplo em https://pjreddie.com/projects/mnist-in-csv/"
   ]
  },
  {
   "cell_type": "code",
   "execution_count": 18,
   "metadata": {},
   "outputs": [
    {
     "name": "stdout",
     "output_type": "stream",
     "text": [
      "(60000, 785)\n",
      "(10000, 785)\n"
     ]
    }
   ],
   "source": [
    "import csv\n",
    "import numpy as np\n",
    "\n",
    "with open(\"mnist_test.csv\", \"r\") as _:\n",
    "    mnist_test_csv = csv.reader(_, delimiter = \",\")\n",
    "    test_data_np = np.array([linha for linha in mnist_test_csv], dtype=float)\n",
    "\n",
    "with open(\"mnist_train.csv\", \"r\") as _:\n",
    "    mnist_train_csv = csv.reader(_, delimiter = \",\")\n",
    "    training_data_np = np.array([linha for linha in mnist_train_csv], dtype=float)\n",
    "\n",
    "print(training_data_np.shape)\n",
    "print(test_data_np.shape)"
   ]
  },
  {
   "cell_type": "code",
   "execution_count": 19,
   "metadata": {},
   "outputs": [
    {
     "name": "stdout",
     "output_type": "stream",
     "text": [
      "<class 'numpy.float64'>\n"
     ]
    }
   ],
   "source": [
    "print( type(training_data_np[0][0]) )"
   ]
  },
  {
   "cell_type": "markdown",
   "metadata": {
    "id": "cbaBhEmPogGR"
   },
   "source": [
    "## Plote das 5 primeiras imagens do conjunto de treino."
   ]
  },
  {
   "cell_type": "code",
   "execution_count": 20,
   "metadata": {
    "id": "4pQhSWvtoYzf"
   },
   "outputs": [],
   "source": [
    "import matplotlib.pyplot as plt"
   ]
  },
  {
   "cell_type": "code",
   "execution_count": 21,
   "metadata": {
    "colab": {
     "base_uri": "https://localhost:8080/",
     "height": 211
    },
    "id": "A8fVqjNBnhYm",
    "outputId": "0da4a7d8-323c-461c-8e46-57ac86ab3985"
   },
   "outputs": [
    {
     "name": "stdout",
     "output_type": "stream",
     "text": [
      "Resposta real da imagem: 5.0\n"
     ]
    },
    {
     "data": {
      "image/png": "[encoded data removed]",
      "text/plain": [
       "<Figure size 432x288 with 1 Axes>"
      ]
     },
     "metadata": {
      "needs_background": "light"
     },
     "output_type": "display_data"
    },
    {
     "name": "stdout",
     "output_type": "stream",
     "text": [
      "Resposta real da imagem: 0.0\n"
     ]
    },
    {
     "data": {
      "image/png": "[encoded data removed]",
      "text/plain": [
       "<Figure size 432x288 with 1 Axes>"
      ]
     },
     "metadata": {
      "needs_background": "light"
     },
     "output_type": "display_data"
    },
    {
     "name": "stdout",
     "output_type": "stream",
     "text": [
      "Resposta real da imagem: 4.0\n"
     ]
    },
    {
     "data": {
      "image/png": "[encoded data removed]",
      "text/plain": [
       "<Figure size 432x288 with 1 Axes>"
      ]
     },
     "metadata": {
      "needs_background": "light"
     },
     "output_type": "display_data"
    },
    {
     "name": "stdout",
     "output_type": "stream",
     "text": [
      "Resposta real da imagem: 1.0\n"
     ]
    },
    {
     "data": {
      "image/png": "[encoded data removed]",
      "text/plain": [
       "<Figure size 432x288 with 1 Axes>"
      ]
     },
     "metadata": {
      "needs_background": "light"
     },
     "output_type": "display_data"
    },
    {
     "name": "stdout",
     "output_type": "stream",
     "text": [
      "Resposta real da imagem: 9.0\n"
     ]
    },
    {
     "data": {
      "image/png": "[encoded data removed]",
      "text/plain": [
       "<Figure size 432x288 with 1 Axes>"
      ]
     },
     "metadata": {
      "needs_background": "light"
     },
     "output_type": "display_data"
    }
   ],
   "source": [
    "# Plotando as 5 primeiras imagens do conjunto de treino\n",
    "\n",
    "for obs in range(0,5):\n",
    "  img = training_data_np[obs, 1:].reshape((28, 28)) # Pegando os pixels da i-ésima imagem e transformando em uma que possui tamanho 28x28\n",
    "  label = training_data_np[obs, 0] # Pegando a primeira info que se refere a verdadeira resposta do conjunto treino\n",
    "\n",
    "  print('Resposta real da imagem:', label) # Printando o resultado real\n",
    "\n",
    "  plt.imshow(img, cmap='gray') # Plotando a imagem em tons de cinza\n",
    "  plt.show()"
   ]
  },
  {
   "cell_type": "markdown",
   "metadata": {
    "id": "1OCBi1nBpOvZ"
   },
   "source": [
    "## Divisão dos dados que formam o conjunto de treino em duas partes: primeiras 55000 observações como sendo o conjunto de treino e 5000 observações seguintes como conjunto de validação."
   ]
  },
  {
   "cell_type": "code",
   "execution_count": 22,
   "metadata": {
    "colab": {
     "base_uri": "https://localhost:8080/"
    },
    "id": "PlT4nGMHnnVZ",
    "outputId": "152e1a35-d20d-494e-933c-fa635ac615cb"
   },
   "outputs": [
    {
     "name": "stdout",
     "output_type": "stream",
     "text": [
      "Conjunto de treino corresponde a  92.0 % da base de treino e o conjunto de validação corresponde a  8.0 %\n"
     ]
    }
   ],
   "source": [
    "# Separando a base de treinamento em conjunto de treino (~90%) e conjunto de validação (~10%)\n",
    "\n",
    "conjunto_de_treino = training_data_np[:55000, 1:]\n",
    "conjunto_de_validação = training_data_np[55000:, 1:]\n",
    "\n",
    "print(\"Conjunto de treino corresponde a \", np.round(100*len(conjunto_de_treino)/len(training_data_np), decimals = 0), \"% da base de treino e o conjunto de validação corresponde a \", np.round(100*len(conjunto_de_validação)/len(training_data_np), decimals = 0), \"%\")"
   ]
  },
  {
   "cell_type": "markdown",
   "metadata": {},
   "source": [
    "## Histograma com as intensidades dos pixels que formam a primeira imagem e rescalonamento dos pixels de tal modo que suas intensidades estejam contidas no intervalo [0, 1] e as ocorrências de 0 sejam preservadas."
   ]
  },
  {
   "cell_type": "code",
   "execution_count": 23,
   "metadata": {
    "colab": {
     "base_uri": "https://localhost:8080/",
     "height": 141
    },
    "id": "lOUdNoiTsIw0",
    "outputId": "8ec60093-7be9-49d4-80d4-7ed5a65a0a77"
   },
   "outputs": [
    {
     "data": {
      "text/plain": [
       "Text(0, 0.5, 'Frequência de ocorrências')"
      ]
     },
     "execution_count": 23,
     "metadata": {},
     "output_type": "execute_result"
    },
    {
     "data": {
      "image/png": "[encoded data removed]",
      "text/plain": [
       "<Figure size 432x288 with 1 Axes>"
      ]
     },
     "metadata": {
      "needs_background": "light"
     },
     "output_type": "display_data"
    }
   ],
   "source": [
    "# Fazendo o histograma das intensidades dos pixels da primeira imagem do conjunto de treinamento\n",
    "plt.hist(conjunto_de_treino[0, :], bins=15, edgecolor='black')\n",
    "\n",
    "# Adicionando descrições ao gráfico\n",
    "plt.title(\"Intensidade dos pixels da primeira imagem\")\n",
    "plt.xlabel(\"Intensidade dos pixels\", fontsize = 12)\n",
    "plt.ylabel(\"Frequência de ocorrências\", fontsize = 12)"
   ]
  },
  {
   "cell_type": "markdown",
   "metadata": {
    "id": "GT9XvQ0H0O-4"
   },
   "source": [
    "Uma forma de tratamento é normalizar - nesse caso, dividir pelo maior valor - o vetor de intensidades dos pixels para que ele pertença ao intervalo [0, 1]. Dessa modo, ainda peservamos as ocorrências iguais a 0"
   ]
  },
  {
   "cell_type": "code",
   "execution_count": 24,
   "metadata": {
    "colab": {
     "base_uri": "https://localhost:8080/",
     "height": 72
    },
    "id": "PNCRvh8qsWT_",
    "outputId": "82ddbbea-37b3-4b93-e424-4c067a44fd4a"
   },
   "outputs": [
    {
     "name": "stdout",
     "output_type": "stream",
     "text": [
      "A maior intensidade de pixel da base é:  1.0\n"
     ]
    },
    {
     "data": {
      "image/png": "[encoded data removed]",
      "text/plain": [
       "<Figure size 720x432 with 1 Axes>"
      ]
     },
     "metadata": {
      "needs_background": "light"
     },
     "output_type": "display_data"
    }
   ],
   "source": [
    "# Fazendo o histograma das intensidades normalizadas dos pixels da primeira imagem do conjunto de treinamento\n",
    "\n",
    "# Normalizando os conjuntos\n",
    "conjunto_de_treino = training_data_np[:55000, 1:] / 255 # 255 é o maior valor relacionado a intensidade do pixel\n",
    "conjunto_de_validação = training_data_np[55000:, 1:] / 255\n",
    "\n",
    "#Print do valor máximo do pixel\n",
    "print(\"A maior intensidade de pixel da base é: \", max(conjunto_de_treino[0, :]))\n",
    "\n",
    "# Fazendo o plot\n",
    "plt.figure(figsize=(10, 6))\n",
    "plt.hist(conjunto_de_treino[0, :], bins=15, edgecolor='black')\n",
    "\n",
    "# Adicionando descrições ao gráfico\n",
    "plt.title(\"Intensidade normalizada dos pixels da primeira imagem\", fontsize = 12)\n",
    "plt.xlabel(\"Intensidade dos pixels\", fontsize = 12)\n",
    "plt.ylabel(\"Frequência de ocorrências\", fontsize = 12)\n",
    "\n",
    "plt.show()\n",
    "# É possível notar que todas as ocorências estão entre 0 e 1"
   ]
  },
  {
   "cell_type": "markdown",
   "metadata": {
    "id": "ycVlQ494LhyV"
   },
   "source": [
    "## Rodando o algoritmo do gradiente ascendente estocástico variando as taxas de aprendizagem no conjunto γ ∈ {2, 1, 0.1, 0.01} - fixado um tamanho de batch."
   ]
  },
  {
   "cell_type": "code",
   "execution_count": 26,
   "metadata": {},
   "outputs": [
    {
     "name": "stdout",
     "output_type": "stream",
     "text": [
      "Collecting package metadata (current_repodata.json): done\n",
      "Solving environment: done\n",
      "\n",
      "\n",
      "==> WARNING: A newer version of conda exists. <==\n",
      "  current version: 22.9.0\n",
      "  latest version: 24.7.1\n",
      "\n",
      "Please update conda by running\n",
      "\n",
      "    $ conda update -n base -c defaults conda\n",
      "\n",
      "\n",
      "\n",
      "## Package Plan ##\n",
      "\n",
      "  environment location: /Users/rafaelafonso/opt/anaconda3\n",
      "\n",
      "  added / updated specs:\n",
      "    - torchaudio\n",
      "\n",
      "\n",
      "The following packages will be downloaded:\n",
      "\n",
      "    package                    |            build\n",
      "    ---------------------------|-----------------\n",
      "    pytorch-2.2.2              |          py3.9_0        87.2 MB  pytorch\n",
      "    torchaudio-2.2.2           |         py39_cpu         4.8 MB  pytorch\n",
      "    ------------------------------------------------------------\n",
      "                                           Total:        91.9 MB\n",
      "\n",
      "The following NEW packages will be INSTALLED:\n",
      "\n",
      "  pytorch            pytorch/osx-64::pytorch-2.2.2-py3.9_0 None\n",
      "  torchaudio         pytorch/osx-64::torchaudio-2.2.2-py39_cpu None\n",
      "\n",
      "\n",
      "\n",
      "Downloading and Extracting Packages\n",
      "pytorch-2.2.2        | 87.2 MB   | ##################################### | 100% \n",
      "torchaudio-2.2.2     | 4.8 MB    | ##################################### | 100% \n",
      "Preparing transaction: done\n",
      "Verifying transaction: done\n",
      "Executing transaction: done\n",
      "Retrieving notices: ...working... done\n",
      "\n",
      "Note: you may need to restart the kernel to use updated packages.\n"
     ]
    }
   ],
   "source": [
    "conda install -c pytorch torchaudio"
   ]
  },
  {
   "cell_type": "code",
   "execution_count": 28,
   "metadata": {
    "colab": {
     "base_uri": "https://localhost:8080/"
    },
    "id": "5iczeG_47Moh",
    "outputId": "e139de80-996d-40d4-d184-a38d2e694daa"
   },
   "outputs": [
    {
     "name": "stdout",
     "output_type": "stream",
     "text": [
      "2.2.2\n"
     ]
    }
   ],
   "source": [
    "import torch\n",
    "\n",
    "# print installed version of PyTorch\n",
    "print( torch.__version__ )\n",
    "\n",
    "# importando o modulo nn do Pytorch para criar as redes\n",
    "import torch.nn as nn\n",
    "\n",
    "# importando biblioteca com funções úteis para a rede\n",
    "import torch.nn.functional as F"
   ]
  },
  {
   "cell_type": "code",
   "execution_count": 29,
   "metadata": {
    "colab": {
     "base_uri": "https://localhost:8080/"
    },
    "id": "fSZcxRFro5Fr",
    "outputId": "45863eaf-9504-4bc0-d05c-0dd18cf93351"
   },
   "outputs": [
    {
     "name": "stdout",
     "output_type": "stream",
     "text": [
      "torch.Size([5000, 785])\n",
      "tensor([[1., 0., 0.,  ..., 0., 0., 0.],\n",
      "        [2., 0., 0.,  ..., 0., 0., 0.],\n",
      "        [8., 0., 0.,  ..., 0., 0., 0.],\n",
      "        ...,\n",
      "        [5., 0., 0.,  ..., 0., 0., 0.],\n",
      "        [6., 0., 0.,  ..., 0., 0., 0.],\n",
      "        [8., 0., 0.,  ..., 0., 0., 0.]], dtype=torch.float64)\n"
     ]
    }
   ],
   "source": [
    "# Definindo os 3 conjuntos diferentes das bases importadas: treino, validação e teste\n",
    "training_data = torch.tensor(training_data_np[0:55000, :])\n",
    "validation_data = torch.tensor(training_data_np[55000:60000, :])\n",
    "test_data = torch.tensor(test_data_np)\n",
    "\n",
    "print(validation_data.shape)\n",
    "print(validation_data)"
   ]
  },
  {
   "cell_type": "code",
   "execution_count": 30,
   "metadata": {
    "colab": {
     "base_uri": "https://localhost:8080/"
    },
    "id": "O77ktthR7Z4y",
    "outputId": "597866c6-8cb4-4263-f67d-0de8ae081aec"
   },
   "outputs": [
    {
     "name": "stdout",
     "output_type": "stream",
     "text": [
      "Network3(\n",
      "  (fc1): Linear(in_features=784, out_features=200, bias=True)\n",
      "  (fc2): Linear(in_features=200, out_features=100, bias=True)\n",
      "  (fc3): Linear(in_features=100, out_features=50, bias=True)\n",
      "  (out): Linear(in_features=50, out_features=10, bias=True)\n",
      ")\n",
      "<generator object Module.parameters at 0x7f81a46f93c0>\n"
     ]
    }
   ],
   "source": [
    "#Inicializando a classe da rede\n",
    "\n",
    "class Network3(nn.Module):  # Criando a classe da rede que será usada para treinamento como extensão do módulo nn\n",
    "\n",
    "    def __init__(self):\n",
    "        super().__init__()\n",
    "\n",
    "        # 1ª camada latente\n",
    "        self.fc1 = nn.Linear(in_features = 28*28, out_features = 200, bias = True, dtype = torch.float64)\n",
    "        # 2ª Camada latente\n",
    "        self.fc2 = nn.Linear(in_features = 200, out_features = 100, bias = True, dtype = torch.float64)\n",
    "        # 3ª Camada latente\n",
    "        self.fc3 = nn.Linear(in_features = 100, out_features = 50, bias = True, dtype = torch.float64)\n",
    "        # Camada de saída\n",
    "        self.out = nn.Linear(in_features = 50, out_features = 10, bias = True, dtype = torch.float64)\n",
    "\n",
    "    def forward(self, t):\n",
    "\n",
    "        # Função de ligação da 1ª camada\n",
    "        t = self.fc1(t)\n",
    "        t = F.relu(t)\n",
    "        # Função de ligação da 2ª camada\n",
    "        t = self.fc2(t)\n",
    "        t = F.relu(t)\n",
    "        # Função de ligação da 2ª camada\n",
    "        t = self.fc3(t)\n",
    "        t = F.relu(t)\n",
    "        # Função de ligação da saída\n",
    "        t = self.out(t)\n",
    "        t = F.softmax(t, dim=1)\n",
    "\n",
    "        return t\n",
    "\n",
    "# criando uma variável que chama a função\n",
    "net = Network3()\n",
    "\n",
    "# Analisando os parâmetros da rede\n",
    "print(net)\n",
    "print(net.parameters() )"
   ]
  },
  {
   "cell_type": "code",
   "execution_count": 31,
   "metadata": {
    "colab": {
     "base_uri": "https://localhost:8080/"
    },
    "id": "rv6rPu6h3Qod",
    "outputId": "a9f7483e-c2aa-4e5f-df29-b9c6889b3cc4"
   },
   "outputs": [
    {
     "name": "stdout",
     "output_type": "stream",
     "text": [
      "Treinando a rede para taxa de aprendizado γ = 2 \n",
      "\n",
      "epoch: 0 train accuracy: 0.1038 validation accuracy: 0.1126 loss: 18.8429\n",
      "epoch: 1 train accuracy: 0.1037 validation accuracy: 0.1126 loss: 18.8598\n",
      "epoch: 2 train accuracy: 0.1037 validation accuracy: 0.1126 loss: 18.8598\n",
      "epoch: 3 train accuracy: 0.1037 validation accuracy: 0.1126 loss: 18.8598\n",
      "epoch: 4 train accuracy: 0.1037 validation accuracy: 0.1126 loss: 18.8598\n",
      "epoch: 5 train accuracy: 0.1037 validation accuracy: 0.1126 loss: 18.8598\n",
      "epoch: 6 train accuracy: 0.1037 validation accuracy: 0.1126 loss: 18.8598\n",
      "epoch: 7 train accuracy: 0.1037 validation accuracy: 0.1126 loss: 18.8598\n",
      "epoch: 8 train accuracy: 0.1037 validation accuracy: 0.1126 loss: 18.8598\n",
      "epoch: 9 train accuracy: 0.1037 validation accuracy: 0.1126 loss: 18.8598\n",
      "epoch: 10 train accuracy: 0.1037 validation accuracy: 0.1126 loss: 18.8598\n",
      "epoch: 11 train accuracy: 0.1037 validation accuracy: 0.1126 loss: 18.8598\n",
      "epoch: 12 train accuracy: 0.1037 validation accuracy: 0.1126 loss: 18.8598\n",
      "epoch: 13 train accuracy: 0.1037 validation accuracy: 0.1126 loss: 18.8598\n",
      "epoch: 14 train accuracy: 0.1037 validation accuracy: 0.1126 loss: 18.8598\n",
      "epoch: 15 train accuracy: 0.1037 validation accuracy: 0.1126 loss: 18.8598\n",
      "epoch: 16 train accuracy: 0.1037 validation accuracy: 0.1126 loss: 18.8598\n",
      "epoch: 17 train accuracy: 0.1037 validation accuracy: 0.1126 loss: 18.8598\n",
      "epoch: 18 train accuracy: 0.1037 validation accuracy: 0.1126 loss: 18.8598\n",
      "epoch: 19 train accuracy: 0.1037 validation accuracy: 0.1126 loss: 18.8598\n",
      "epoch: 20 train accuracy: 0.1037 validation accuracy: 0.1126 loss: 18.8598\n",
      "epoch: 21 train accuracy: 0.1037 validation accuracy: 0.1126 loss: 18.8598\n",
      "epoch: 22 train accuracy: 0.1037 validation accuracy: 0.1126 loss: 18.8598\n",
      "epoch: 23 train accuracy: 0.1037 validation accuracy: 0.1126 loss: 18.8598\n",
      "epoch: 24 train accuracy: 0.1037 validation accuracy: 0.1126 loss: 18.8598\n",
      "epoch: 25 train accuracy: 0.1037 validation accuracy: 0.1126 loss: 18.8598\n",
      "epoch: 26 train accuracy: 0.1037 validation accuracy: 0.1126 loss: 18.8598\n",
      "epoch: 27 train accuracy: 0.1037 validation accuracy: 0.1126 loss: 18.8598\n",
      "epoch: 28 train accuracy: 0.1037 validation accuracy: 0.1126 loss: 18.8598\n",
      "epoch: 29 train accuracy: 0.1037 validation accuracy: 0.1126 loss: 18.8598\n",
      "epoch: 30 train accuracy: 0.1037 validation accuracy: 0.1126 loss: 18.8598\n",
      "epoch: 31 train accuracy: 0.1037 validation accuracy: 0.1126 loss: 18.8598\n",
      "epoch: 32 train accuracy: 0.1037 validation accuracy: 0.1126 loss: 18.8598\n",
      "epoch: 33 train accuracy: 0.1037 validation accuracy: 0.1126 loss: 18.8598\n",
      "epoch: 34 train accuracy: 0.1037 validation accuracy: 0.1126 loss: 18.8598\n",
      "epoch: 35 train accuracy: 0.1037 validation accuracy: 0.1126 loss: 18.8598\n",
      "epoch: 36 train accuracy: 0.1037 validation accuracy: 0.1126 loss: 18.8598\n",
      "epoch: 37 train accuracy: 0.1037 validation accuracy: 0.1126 loss: 18.8598\n",
      "epoch: 38 train accuracy: 0.1037 validation accuracy: 0.1126 loss: 18.8598\n",
      "epoch: 39 train accuracy: 0.1037 validation accuracy: 0.1126 loss: 18.8598\n",
      "epoch: 40 train accuracy: 0.1037 validation accuracy: 0.1126 loss: 18.8598\n",
      "epoch: 41 train accuracy: 0.1037 validation accuracy: 0.1126 loss: 18.8598\n",
      "epoch: 42 train accuracy: 0.1037 validation accuracy: 0.1126 loss: 18.8598\n",
      "epoch: 43 train accuracy: 0.1037 validation accuracy: 0.1126 loss: 18.8598\n",
      "epoch: 44 train accuracy: 0.1037 validation accuracy: 0.1126 loss: 18.8598\n",
      "epoch: 45 train accuracy: 0.1037 validation accuracy: 0.1126 loss: 18.8598\n",
      "epoch: 46 train accuracy: 0.1037 validation accuracy: 0.1126 loss: 18.8598\n",
      "epoch: 47 train accuracy: 0.1037 validation accuracy: 0.1126 loss: 18.8598\n",
      "epoch: 48 train accuracy: 0.1037 validation accuracy: 0.1126 loss: 18.8598\n",
      "epoch: 49 train accuracy: 0.1037 validation accuracy: 0.1126 loss: 18.8598\n",
      "\n",
      " test_accuracy:  tensor(0.1028)\n",
      "\n",
      "--------------------------------------------------------------------------------\n",
      "\n",
      "Treinando a rede para taxa de aprendizado γ = 1 \n",
      "\n",
      "epoch: 0 train accuracy: 0.099 validation accuracy: 0.1126 loss: 18.85\n",
      "epoch: 1 train accuracy: 0.1037 validation accuracy: 0.1126 loss: 18.8598\n",
      "epoch: 2 train accuracy: 0.1037 validation accuracy: 0.1126 loss: 18.8598\n",
      "epoch: 3 train accuracy: 0.1037 validation accuracy: 0.1126 loss: 18.8598\n",
      "epoch: 4 train accuracy: 0.1037 validation accuracy: 0.1126 loss: 18.8598\n",
      "epoch: 5 train accuracy: 0.1037 validation accuracy: 0.1126 loss: 18.8598\n",
      "epoch: 6 train accuracy: 0.1037 validation accuracy: 0.1126 loss: 18.8598\n",
      "epoch: 7 train accuracy: 0.1037 validation accuracy: 0.1126 loss: 18.8598\n",
      "epoch: 8 train accuracy: 0.1037 validation accuracy: 0.1126 loss: 18.8598\n",
      "epoch: 9 train accuracy: 0.1037 validation accuracy: 0.1126 loss: 18.8598\n",
      "epoch: 10 train accuracy: 0.1037 validation accuracy: 0.1126 loss: 18.8598\n",
      "epoch: 11 train accuracy: 0.1037 validation accuracy: 0.1126 loss: 18.8598\n",
      "epoch: 12 train accuracy: 0.1037 validation accuracy: 0.1126 loss: 18.8598\n",
      "epoch: 13 train accuracy: 0.1037 validation accuracy: 0.1126 loss: 18.8598\n",
      "epoch: 14 train accuracy: 0.1037 validation accuracy: 0.1126 loss: 18.8598\n",
      "epoch: 15 train accuracy: 0.1037 validation accuracy: 0.1126 loss: 18.8598\n",
      "epoch: 16 train accuracy: 0.1037 validation accuracy: 0.1126 loss: 18.8598\n",
      "epoch: 17 train accuracy: 0.1037 validation accuracy: 0.1126 loss: 18.8598\n",
      "epoch: 18 train accuracy: 0.1037 validation accuracy: 0.1126 loss: 18.8598\n",
      "epoch: 19 train accuracy: 0.1037 validation accuracy: 0.1126 loss: 18.8598\n",
      "epoch: 20 train accuracy: 0.1037 validation accuracy: 0.1126 loss: 18.8598\n",
      "epoch: 21 train accuracy: 0.1037 validation accuracy: 0.1126 loss: 18.8598\n",
      "epoch: 22 train accuracy: 0.1037 validation accuracy: 0.1126 loss: 18.8598\n",
      "epoch: 23 train accuracy: 0.1037 validation accuracy: 0.1126 loss: 18.8598\n",
      "epoch: 24 train accuracy: 0.1037 validation accuracy: 0.1126 loss: 18.8598\n",
      "epoch: 25 train accuracy: 0.1037 validation accuracy: 0.1126 loss: 18.8598\n",
      "epoch: 26 train accuracy: 0.1037 validation accuracy: 0.1126 loss: 18.8598\n",
      "epoch: 27 train accuracy: 0.1037 validation accuracy: 0.1126 loss: 18.8598\n",
      "epoch: 28 train accuracy: 0.1037 validation accuracy: 0.1126 loss: 18.8598\n",
      "epoch: 29 train accuracy: 0.1037 validation accuracy: 0.1126 loss: 18.8598\n",
      "epoch: 30 train accuracy: 0.1037 validation accuracy: 0.1126 loss: 18.8598\n",
      "epoch: 31 train accuracy: 0.1037 validation accuracy: 0.1126 loss: 18.8598\n",
      "epoch: 32 train accuracy: 0.1037 validation accuracy: 0.1126 loss: 18.8598\n",
      "epoch: 33 train accuracy: 0.1037 validation accuracy: 0.1126 loss: 18.8598\n",
      "epoch: 34 train accuracy: 0.1037 validation accuracy: 0.1126 loss: 18.8598\n",
      "epoch: 35 train accuracy: 0.1037 validation accuracy: 0.1126 loss: 18.8598\n",
      "epoch: 36 train accuracy: 0.1037 validation accuracy: 0.1126 loss: 18.8598\n",
      "epoch: 37 train accuracy: 0.1037 validation accuracy: 0.1126 loss: 18.8598\n",
      "epoch: 38 train accuracy: 0.1037 validation accuracy: 0.1126 loss: 18.8598\n",
      "epoch: 39 train accuracy: 0.1037 validation accuracy: 0.1126 loss: 18.8598\n",
      "epoch: 40 train accuracy: 0.1037 validation accuracy: 0.1126 loss: 18.8598\n",
      "epoch: 41 train accuracy: 0.1037 validation accuracy: 0.1126 loss: 18.8598\n",
      "epoch: 42 train accuracy: 0.1037 validation accuracy: 0.1126 loss: 18.8598\n",
      "epoch: 43 train accuracy: 0.1037 validation accuracy: 0.1126 loss: 18.8598\n",
      "epoch: 44 train accuracy: 0.1037 validation accuracy: 0.1126 loss: 18.8598\n",
      "epoch: 45 train accuracy: 0.1037 validation accuracy: 0.1126 loss: 18.8598\n",
      "epoch: 46 train accuracy: 0.1037 validation accuracy: 0.1126 loss: 18.8598\n",
      "epoch: 47 train accuracy: 0.1037 validation accuracy: 0.1126 loss: 18.8598\n",
      "epoch: 48 train accuracy: 0.1037 validation accuracy: 0.1126 loss: 18.8598\n",
      "epoch: 49 train accuracy: 0.1037 validation accuracy: 0.1126 loss: 18.8598\n",
      "\n",
      " test_accuracy:  tensor(0.1028)\n",
      "\n",
      "--------------------------------------------------------------------------------\n",
      "\n",
      "Treinando a rede para taxa de aprendizado γ = 0.01 \n",
      "\n",
      "epoch: 0 train accuracy: 0.1997 validation accuracy: 0.3384 loss: 17.9421\n",
      "epoch: 1 train accuracy: 0.3594 validation accuracy: 0.3812 loss: 16.8398\n",
      "epoch: 2 train accuracy: 0.3925 validation accuracy: 0.4348 loss: 16.4935\n",
      "epoch: 3 train accuracy: 0.4626 validation accuracy: 0.5548 loss: 16.0592\n",
      "epoch: 4 train accuracy: 0.5637 validation accuracy: 0.6264 loss: 15.3864\n",
      "epoch: 5 train accuracy: 0.6302 validation accuracy: 0.6974 loss: 14.8801\n",
      "epoch: 6 train accuracy: 0.704 validation accuracy: 0.7634 loss: 14.3764\n",
      "epoch: 7 train accuracy: 0.7426 validation accuracy: 0.7872 loss: 14.02\n",
      "epoch: 8 train accuracy: 0.762 validation accuracy: 0.7992 loss: 13.8263\n",
      "epoch: 9 train accuracy: 0.7735 validation accuracy: 0.8066 loss: 13.7009\n",
      "epoch: 10 train accuracy: 0.7817 validation accuracy: 0.8112 loss: 13.6097\n",
      "epoch: 11 train accuracy: 0.788 validation accuracy: 0.8142 loss: 13.5389\n",
      "epoch: 12 train accuracy: 0.7933 validation accuracy: 0.8188 loss: 13.4818\n",
      "epoch: 13 train accuracy: 0.7986 validation accuracy: 0.8216 loss: 13.4341\n",
      "epoch: 14 train accuracy: 0.8025 validation accuracy: 0.8248 loss: 13.3934\n",
      "epoch: 15 train accuracy: 0.8058 validation accuracy: 0.8282 loss: 13.3582\n",
      "epoch: 16 train accuracy: 0.8087 validation accuracy: 0.8302 loss: 13.3273\n",
      "epoch: 17 train accuracy: 0.8114 validation accuracy: 0.8314 loss: 13.2997\n",
      "epoch: 18 train accuracy: 0.8136 validation accuracy: 0.8344 loss: 13.2751\n",
      "epoch: 19 train accuracy: 0.8156 validation accuracy: 0.8348 loss: 13.2529\n",
      "epoch: 20 train accuracy: 0.8178 validation accuracy: 0.8364 loss: 13.2327\n",
      "epoch: 21 train accuracy: 0.8198 validation accuracy: 0.8374 loss: 13.2143\n",
      "epoch: 22 train accuracy: 0.8217 validation accuracy: 0.8398 loss: 13.1973\n",
      "epoch: 23 train accuracy: 0.8234 validation accuracy: 0.8406 loss: 13.1817\n",
      "epoch: 24 train accuracy: 0.825 validation accuracy: 0.8422 loss: 13.1672\n",
      "epoch: 25 train accuracy: 0.8265 validation accuracy: 0.8428 loss: 13.1536\n",
      "epoch: 26 train accuracy: 0.828 validation accuracy: 0.844 loss: 13.1409\n",
      "epoch: 27 train accuracy: 0.8291 validation accuracy: 0.8444 loss: 13.129\n",
      "epoch: 28 train accuracy: 0.8307 validation accuracy: 0.8454 loss: 13.1178\n",
      "epoch: 29 train accuracy: 0.8318 validation accuracy: 0.8462 loss: 13.1072\n",
      "epoch: 30 train accuracy: 0.8329 validation accuracy: 0.847 loss: 13.0972\n",
      "epoch: 31 train accuracy: 0.8337 validation accuracy: 0.847 loss: 13.0878\n",
      "epoch: 32 train accuracy: 0.8347 validation accuracy: 0.8478 loss: 13.0787\n",
      "epoch: 33 train accuracy: 0.8355 validation accuracy: 0.8492 loss: 13.0702\n",
      "epoch: 34 train accuracy: 0.8361 validation accuracy: 0.8494 loss: 13.062\n",
      "epoch: 35 train accuracy: 0.8369 validation accuracy: 0.8496 loss: 13.0542\n",
      "epoch: 36 train accuracy: 0.8376 validation accuracy: 0.8504 loss: 13.0468\n",
      "epoch: 37 train accuracy: 0.8382 validation accuracy: 0.851 loss: 13.0396\n",
      "epoch: 38 train accuracy: 0.8391 validation accuracy: 0.8512 loss: 13.0327\n",
      "epoch: 39 train accuracy: 0.8397 validation accuracy: 0.8514 loss: 13.0261\n",
      "epoch: 40 train accuracy: 0.8405 validation accuracy: 0.8516 loss: 13.0197\n",
      "epoch: 41 train accuracy: 0.8412 validation accuracy: 0.8522 loss: 13.0136\n",
      "epoch: 42 train accuracy: 0.8418 validation accuracy: 0.8524 loss: 13.0076\n",
      "epoch: 43 train accuracy: 0.8423 validation accuracy: 0.853 loss: 13.0018\n",
      "epoch: 44 train accuracy: 0.8429 validation accuracy: 0.8532 loss: 12.9962\n",
      "epoch: 45 train accuracy: 0.8437 validation accuracy: 0.854 loss: 12.9907\n",
      "epoch: 46 train accuracy: 0.8444 validation accuracy: 0.854 loss: 12.9854\n",
      "epoch: 47 train accuracy: 0.8449 validation accuracy: 0.8546 loss: 12.9802\n",
      "epoch: 48 train accuracy: 0.8455 validation accuracy: 0.855 loss: 12.9752\n",
      "epoch: 49 train accuracy: 0.8461 validation accuracy: 0.8552 loss: 12.9702\n",
      "\n",
      " test_accuracy:  tensor(0.8451)\n",
      "\n",
      "--------------------------------------------------------------------------------\n",
      "\n",
      "Treinando a rede para taxa de aprendizado γ = 0.1 \n",
      "\n",
      "epoch: 0 train accuracy: 0.1785 validation accuracy: 0.2978 loss: 18.1593\n",
      "epoch: 1 train accuracy: 0.3268 validation accuracy: 0.4392 loss: 16.9889\n",
      "epoch: 2 train accuracy: 0.5238 validation accuracy: 0.5938 loss: 15.4839\n",
      "epoch: 3 train accuracy: 0.5976 validation accuracy: 0.6564 loss: 14.905\n",
      "epoch: 4 train accuracy: 0.6281 validation accuracy: 0.6306 loss: 14.6613\n",
      "epoch: 5 train accuracy: 0.6609 validation accuracy: 0.7388 loss: 14.3961\n",
      "epoch: 6 train accuracy: 0.7445 validation accuracy: 0.6454 loss: 13.7485\n",
      "epoch: 7 train accuracy: 0.7263 validation accuracy: 0.7702 loss: 13.8862\n",
      "epoch: 8 train accuracy: 0.7787 validation accuracy: 0.8402 loss: 13.4584\n",
      "epoch: 9 train accuracy: 0.8214 validation accuracy: 0.8594 loss: 13.135\n",
      "epoch: 10 train accuracy: 0.8478 validation accuracy: 0.871 loss: 12.9255\n",
      "epoch: 11 train accuracy: 0.8557 validation accuracy: 0.873 loss: 12.8633\n",
      "epoch: 12 train accuracy: 0.86 validation accuracy: 0.8746 loss: 12.8318\n",
      "epoch: 13 train accuracy: 0.8586 validation accuracy: 0.8488 loss: 12.8411\n",
      "epoch: 14 train accuracy: 0.8585 validation accuracy: 0.8486 loss: 12.8501\n",
      "epoch: 15 train accuracy: 0.8548 validation accuracy: 0.939 loss: 12.8903\n",
      "epoch: 16 train accuracy: 0.9079 validation accuracy: 0.9428 loss: 12.4563\n",
      "epoch: 17 train accuracy: 0.9272 validation accuracy: 0.946 loss: 12.31\n",
      "epoch: 18 train accuracy: 0.9341 validation accuracy: 0.9532 loss: 12.2516\n",
      "epoch: 19 train accuracy: 0.9441 validation accuracy: 0.9546 loss: 12.1706\n",
      "epoch: 20 train accuracy: 0.9415 validation accuracy: 0.9512 loss: 12.1932\n",
      "epoch: 21 train accuracy: 0.9457 validation accuracy: 0.9586 loss: 12.1578\n",
      "epoch: 22 train accuracy: 0.9521 validation accuracy: 0.9606 loss: 12.1027\n",
      "epoch: 23 train accuracy: 0.9526 validation accuracy: 0.9592 loss: 12.1004\n",
      "epoch: 24 train accuracy: 0.9553 validation accuracy: 0.9632 loss: 12.0798\n",
      "epoch: 25 train accuracy: 0.9449 validation accuracy: 0.9434 loss: 12.1629\n",
      "epoch: 26 train accuracy: 0.9518 validation accuracy: 0.9618 loss: 12.1033\n",
      "epoch: 27 train accuracy: 0.9594 validation accuracy: 0.963 loss: 12.0424\n",
      "epoch: 28 train accuracy: 0.9608 validation accuracy: 0.966 loss: 12.0336\n",
      "epoch: 29 train accuracy: 0.963 validation accuracy: 0.9662 loss: 12.0163\n",
      "epoch: 30 train accuracy: 0.9642 validation accuracy: 0.9664 loss: 12.0071\n",
      "epoch: 31 train accuracy: 0.9651 validation accuracy: 0.9662 loss: 11.9972\n",
      "epoch: 32 train accuracy: 0.9653 validation accuracy: 0.9636 loss: 11.9962\n",
      "epoch: 33 train accuracy: 0.9654 validation accuracy: 0.965 loss: 11.9974\n",
      "epoch: 34 train accuracy: 0.9659 validation accuracy: 0.9662 loss: 11.9883\n",
      "epoch: 35 train accuracy: 0.9674 validation accuracy: 0.9658 loss: 11.978\n",
      "epoch: 36 train accuracy: 0.9667 validation accuracy: 0.9646 loss: 11.9844\n",
      "epoch: 37 train accuracy: 0.9672 validation accuracy: 0.967 loss: 11.9784\n",
      "epoch: 38 train accuracy: 0.97 validation accuracy: 0.9674 loss: 11.9553\n",
      "epoch: 39 train accuracy: 0.9695 validation accuracy: 0.965 loss: 11.9584\n",
      "epoch: 40 train accuracy: 0.9686 validation accuracy: 0.9658 loss: 11.9685\n",
      "epoch: 41 train accuracy: 0.9713 validation accuracy: 0.9674 loss: 11.9454\n",
      "epoch: 42 train accuracy: 0.9714 validation accuracy: 0.9676 loss: 11.942\n",
      "epoch: 43 train accuracy: 0.9725 validation accuracy: 0.9682 loss: 11.9341\n",
      "epoch: 44 train accuracy: 0.9725 validation accuracy: 0.9662 loss: 11.9356\n",
      "epoch: 45 train accuracy: 0.9696 validation accuracy: 0.9662 loss: 11.9581\n",
      "epoch: 46 train accuracy: 0.9714 validation accuracy: 0.9684 loss: 11.9433\n",
      "epoch: 47 train accuracy: 0.974 validation accuracy: 0.9692 loss: 11.9202\n",
      "epoch: 48 train accuracy: 0.9749 validation accuracy: 0.9704 loss: 11.9135\n",
      "epoch: 49 train accuracy: 0.9758 validation accuracy: 0.97 loss: 11.9067\n",
      "\n",
      " test_accuracy:  tensor(0.9655)\n",
      "\n",
      "--------------------------------------------------------------------------------\n",
      "\n"
     ]
    }
   ],
   "source": [
    "gammas = [2, 1, 0.01, 0.1] # Vetor de possíveia gammas de estudo\n",
    "\n",
    "def get_accuracy(preds, labels): # Função para analisar a acurácia do treinamento\n",
    "  return torch.mean(preds.argmax(dim=1).eq(labels).float() )\n",
    "\n",
    "# Definindo constantes importantes para a rede\n",
    "n = 55000\n",
    "p = 28*28\n",
    "batch_size = 6875\n",
    "n_epochs = 50\n",
    "\n",
    "# Extraindo os vetores X de validação e Y de respostas\n",
    "X_valid = validation_data[:, 1:(p+1)]\n",
    "y_valid = validation_data[:, 0]\n",
    "\n",
    "# Armazenando as precisões dos modelos\n",
    "precisoes = np.empty((len(gammas), n_epochs))\n",
    "\n",
    "for i, gamma in enumerate(gammas):\n",
    "\n",
    "  # Criando a variável da rede para um certo gamma\n",
    "  network = Network3()\n",
    "\n",
    "\n",
    "  train_loader = torch.utils.data.DataLoader(training_data, batch_size = batch_size) # Definindo os batchs dasiterações\n",
    "  optimizer = torch.optim.SGD(network.parameters(), lr=gamma) # Definindo a otimização dos pesos a partir do peso gamma da iteração\n",
    "\n",
    "  #Identificando o começo do treinamento para o gamma específico a partir do print\n",
    "  print(f\"Treinando a rede para taxa de aprendizado γ = {gamma} \\n\")\n",
    "\n",
    "  for epoch in range(n_epochs):\n",
    "\n",
    "    total_loss = 0\n",
    "    total_accuracy = 0\n",
    "\n",
    "    for data_batch in train_loader: # Pegando cada um  dos batchs criado\n",
    "\n",
    "        # Criando os vetores X do batch e Y de respostas\n",
    "        X_batch = data_batch[:, 1:(p+1)]\n",
    "        y_batch = data_batch[:, 0]\n",
    "\n",
    "        y_hat_batch = network(X_batch) # Calculando o vetor de resposta a partir do batch criado\n",
    "        loss = F.cross_entropy(y_hat_batch, y_batch.type(torch.LongTensor) ) # Calculando a perda\n",
    "\n",
    "        optimizer.zero_grad() # Zerando\n",
    "        loss.backward() # Calculando o gradiente\n",
    "        optimizer.step() # Atualizando os pesos\n",
    "\n",
    "        # Calculando a perda e acurácia da rede\n",
    "        total_loss += loss.item()\n",
    "        total_accuracy += get_accuracy(y_hat_batch, y_batch)\n",
    "\n",
    "    # Criando o print de resultados para cada época\n",
    "    if epoch % 1 == 0:\n",
    "\n",
    "      # Calculando a acurácia\n",
    "      y_hat_valid = network(X_valid)\n",
    "      valid_accuracy = get_accuracy(y_hat_valid, y_valid)\n",
    "\n",
    "      # Gerando o print do resultado da época\n",
    "      print(\n",
    "          \"epoch:\", epoch,\n",
    "          \"train accuracy:\", round( (total_accuracy/(n/batch_size)).item(), 4),\n",
    "          \"validation accuracy:\", round( valid_accuracy.item(), 4),\n",
    "          \"loss:\", round(total_loss, 4)\n",
    "      )\n",
    "\n",
    "      # Armazenando a evolução da acurácia do modelo\n",
    "      precisoes[i][epoch] = round( valid_accuracy.item(), 4)\n",
    "\n",
    "\n",
    "  # Criando os vetores X do teste e Y de respostas\n",
    "  X_test = test_data[:, 1:(p+1)]\n",
    "  y_test = test_data[:, 0]\n",
    "\n",
    "  # Usando o modelo treinado para predizer resultados sobre o conjunto teste (desconhecido para a rede)\n",
    "  y_hat_test = network(X_test)\n",
    "  test_accuracy = get_accuracy(y_hat_test, y_test)\n",
    "\n",
    "  print(\"\\n test_accuracy: \", test_accuracy)\n",
    "\n",
    "  print(\"\\n\" + 80*\"-\" + \"\\n\")"
   ]
  },
  {
   "cell_type": "markdown",
   "metadata": {},
   "source": [
    "## Plote da precisão no conjunto de validação a cada época para cada uma das escolhas de γ e reporte do melhor valor de γ com base no gráfico."
   ]
  },
  {
   "cell_type": "code",
   "execution_count": 32,
   "metadata": {
    "colab": {
     "base_uri": "https://localhost:8080/",
     "height": 489
    },
    "id": "NmFco_5zGT4O",
    "outputId": "2ac6ec7a-fa17-43bb-eb4f-e35e1fb2d1e2"
   },
   "outputs": [
    {
     "data": {
      "text/plain": [
       "<matplotlib.legend.Legend at 0x7f81c5c3dfa0>"
      ]
     },
     "execution_count": 32,
     "metadata": {},
     "output_type": "execute_result"
    },
    {
     "data": {
      "image/png": "[encoded data removed]",
      "text/plain": [
       "<Figure size 432x288 with 1 Axes>"
      ]
     },
     "metadata": {
      "needs_background": "light"
     },
     "output_type": "display_data"
    }
   ],
   "source": [
    "epochs = range(1, n_epochs+1) # Criando o vetor x de épocas\n",
    "\n",
    "for i, gamma in enumerate(gammas): # Fazendo o plot de cada evolução da acurácia relacionada ao seu gamma específico\n",
    "  plt.plot(epochs, 100*precisoes[i], label = f\"γ={gamma}\")\n",
    "\n",
    "# Criando algumas descrições para o plot\n",
    "plt.title(\"Progresso da precisão no conjunto de validação a cada epoch\")\n",
    "plt.xlabel(\"Epoch\")\n",
    "plt.ylabel(\"Precisão (%)\")\n",
    "plt.legend()"
   ]
  },
  {
   "cell_type": "markdown",
   "metadata": {
    "id": "_4WndJUkRTsE"
   },
   "source": [
    "## Rodando o algoritmo do gradiente ascendente estocástico para treinar um modelo MLP com 1 camada, 2 camadas e 3 camadas - fixado um tamanho de batch e uma taxa de aprendizagem."
   ]
  },
  {
   "cell_type": "code",
   "execution_count": 33,
   "metadata": {
    "id": "-FAK0dmK7j1q"
   },
   "outputs": [],
   "source": [
    "#Inicializando as classes das redes a sereme testadas\n",
    "\n",
    "class Network_Log(nn.Module):  # Criando a classe rede Logistica (e uma camada) que será usada para treinamento como extensão do módulo nn\n",
    "\n",
    "    def __init__(self):\n",
    "        super().__init__()\n",
    "\n",
    "        # Camada de saída\n",
    "        self.out = nn.Linear(in_features = 28*28, out_features = 10, bias = True, dtype = torch.float64)\n",
    "\n",
    "    def forward(self, t):\n",
    "        # Função de ligação da 1ª camada\n",
    "        t = self.out(t)\n",
    "        t = F.softmax(t, dim=1)\n",
    "\n",
    "        return t\n",
    "\n",
    "class Network1(nn.Module):  # Criando a classe rede Logistica (e uma camada) que será usada para treinamento como extensão do módulo nn\n",
    "\n",
    "    def __init__(self):\n",
    "        super().__init__()\n",
    "\n",
    "        # 1ª camada latente\n",
    "        self.fc1 = nn.Linear(in_features = 28*28, out_features = 50, bias = True, dtype = torch.float64)\n",
    "\n",
    "        # Camada de saída\n",
    "        self.out = nn.Linear(in_features = 50, out_features = 10, bias = True, dtype = torch.float64)\n",
    "\n",
    "    def forward(self, t):\n",
    "        # Função de ligação da 1ª camada\n",
    "        t = self.fc1(t)\n",
    "        t = F.softmax(t, dim=1)\n",
    "\n",
    "        # Função de ligação da saída da rede\n",
    "        t = self.out(t)\n",
    "        t = F.softmax(t, dim=1)\n",
    "\n",
    "        return t\n",
    "\n",
    "class Network2(nn.Module):  # Criando a classe da rede com duas camadas que será usada para treinamento como extensão do módulo nn\n",
    "    def __init__(self):\n",
    "        super().__init__()\n",
    "\n",
    "        # 1ª camada latente\n",
    "        self.fc1 = nn.Linear(in_features = 28*28, out_features = 100, bias = True, dtype = torch.float64)\n",
    "\n",
    "        # 2ª camada latente\n",
    "        self.fc2 = nn.Linear(in_features = 100, out_features = 50, bias = True, dtype = torch.float64)\n",
    "\n",
    "        # Camada de saída\n",
    "        self.out = nn.Linear(in_features = 50, out_features = 10, bias = True, dtype = torch.float64)\n",
    "\n",
    "\n",
    "    def forward(self, t):\n",
    "        # Função de ligação da 1ª camada\n",
    "        t = self.fc1(t)\n",
    "        t = F.relu(t)\n",
    "\n",
    "        # Função de ligação da 2ª camada\n",
    "        t = self.fc2(t)\n",
    "        t = F.relu(t)\n",
    "\n",
    "        # Função de ligação da saída da rede\n",
    "        t = self.out(t)\n",
    "        t = F.softmax(t, dim=1)\n",
    "\n",
    "        return t"
   ]
  },
  {
   "cell_type": "code",
   "execution_count": 34,
   "metadata": {
    "colab": {
     "base_uri": "https://localhost:8080/"
    },
    "id": "P9daOcafMA_A",
    "outputId": "27d03cac-0105-4ce1-86a6-242ebe78c2f3"
   },
   "outputs": [
    {
     "name": "stdout",
     "output_type": "stream",
     "text": [
      "Treinando a rede para Multinomial Logística \n",
      "\n",
      "epoch: 0 train accuracy: 0.2365 validation accuracy: 0.2966 loss: 17.7898\n",
      "epoch: 1 train accuracy: 0.4196 validation accuracy: 0.482 loss: 16.3266\n",
      "epoch: 2 train accuracy: 0.4708 validation accuracy: 0.491 loss: 15.9176\n",
      "epoch: 3 train accuracy: 0.4781 validation accuracy: 0.494 loss: 15.8595\n",
      "epoch: 4 train accuracy: 0.4741 validation accuracy: 0.4944 loss: 15.8928\n",
      "epoch: 5 train accuracy: 0.4825 validation accuracy: 0.4958 loss: 15.8262\n",
      "epoch: 6 train accuracy: 0.4876 validation accuracy: 0.4946 loss: 15.7846\n",
      "epoch: 7 train accuracy: 0.4864 validation accuracy: 0.4982 loss: 15.7945\n",
      "epoch: 8 train accuracy: 0.4904 validation accuracy: 0.4978 loss: 15.763\n",
      "epoch: 9 train accuracy: 0.4908 validation accuracy: 0.4996 loss: 15.7599\n",
      "epoch: 10 train accuracy: 0.4898 validation accuracy: 0.4986 loss: 15.7674\n",
      "epoch: 11 train accuracy: 0.4958 validation accuracy: 0.5118 loss: 15.72\n",
      "epoch: 12 train accuracy: 0.5078 validation accuracy: 0.5338 loss: 15.623\n",
      "epoch: 13 train accuracy: 0.5435 validation accuracy: 0.608 loss: 15.3374\n",
      "epoch: 14 train accuracy: 0.5859 validation accuracy: 0.6178 loss: 14.9974\n",
      "epoch: 15 train accuracy: 0.6089 validation accuracy: 0.6352 loss: 14.8145\n",
      "epoch: 16 train accuracy: 0.6263 validation accuracy: 0.6512 loss: 14.6761\n",
      "epoch: 17 train accuracy: 0.6334 validation accuracy: 0.5932 loss: 14.6197\n",
      "epoch: 18 train accuracy: 0.6216 validation accuracy: 0.6606 loss: 14.713\n",
      "epoch: 19 train accuracy: 0.6403 validation accuracy: 0.654 loss: 14.563\n",
      "epoch: 20 train accuracy: 0.6441 validation accuracy: 0.6618 loss: 14.5354\n",
      "epoch: 21 train accuracy: 0.6453 validation accuracy: 0.6364 loss: 14.5238\n",
      "epoch: 22 train accuracy: 0.635 validation accuracy: 0.6668 loss: 14.6062\n",
      "epoch: 23 train accuracy: 0.6394 validation accuracy: 0.6634 loss: 14.5713\n",
      "epoch: 24 train accuracy: 0.6366 validation accuracy: 0.666 loss: 14.5934\n",
      "epoch: 25 train accuracy: 0.6476 validation accuracy: 0.666 loss: 14.5056\n",
      "epoch: 26 train accuracy: 0.6451 validation accuracy: 0.665 loss: 14.5245\n",
      "epoch: 27 train accuracy: 0.648 validation accuracy: 0.664 loss: 14.5028\n",
      "epoch: 28 train accuracy: 0.6491 validation accuracy: 0.6666 loss: 14.4934\n",
      "epoch: 29 train accuracy: 0.6528 validation accuracy: 0.6674 loss: 14.4639\n",
      "epoch: 30 train accuracy: 0.6509 validation accuracy: 0.6658 loss: 14.4794\n",
      "epoch: 31 train accuracy: 0.6526 validation accuracy: 0.669 loss: 14.466\n",
      "epoch: 32 train accuracy: 0.6548 validation accuracy: 0.6638 loss: 14.4485\n",
      "epoch: 33 train accuracy: 0.6479 validation accuracy: 0.6662 loss: 14.5028\n",
      "epoch: 34 train accuracy: 0.6451 validation accuracy: 0.649 loss: 14.5258\n",
      "epoch: 35 train accuracy: 0.6506 validation accuracy: 0.6686 loss: 14.4821\n",
      "epoch: 36 train accuracy: 0.655 validation accuracy: 0.6674 loss: 14.4473\n",
      "epoch: 37 train accuracy: 0.6496 validation accuracy: 0.666 loss: 14.4901\n",
      "epoch: 38 train accuracy: 0.652 validation accuracy: 0.6686 loss: 14.47\n",
      "epoch: 39 train accuracy: 0.6573 validation accuracy: 0.6686 loss: 14.4286\n",
      "epoch: 40 train accuracy: 0.6565 validation accuracy: 0.6626 loss: 14.434\n",
      "epoch: 41 train accuracy: 0.6554 validation accuracy: 0.67 loss: 14.4431\n",
      "epoch: 42 train accuracy: 0.6582 validation accuracy: 0.6708 loss: 14.42\n",
      "epoch: 43 train accuracy: 0.6571 validation accuracy: 0.6706 loss: 14.4299\n",
      "epoch: 44 train accuracy: 0.6478 validation accuracy: 0.6622 loss: 14.5039\n",
      "epoch: 45 train accuracy: 0.6561 validation accuracy: 0.671 loss: 14.4382\n",
      "epoch: 46 train accuracy: 0.6492 validation accuracy: 0.6676 loss: 14.4922\n",
      "epoch: 47 train accuracy: 0.6547 validation accuracy: 0.667 loss: 14.4485\n",
      "epoch: 48 train accuracy: 0.6585 validation accuracy: 0.6672 loss: 14.4181\n",
      "epoch: 49 train accuracy: 0.6563 validation accuracy: 0.6692 loss: 14.4372\n",
      "\n",
      " test_accuracy:  tensor(0.6620)\n",
      "\n",
      "--------------------------------------------------------------------------------\n",
      "\n",
      "Treinando a rede para 1 Camada \n",
      "\n",
      "epoch: 0 train accuracy: 0.1219 validation accuracy: 0.1444 loss: 18.4177\n",
      "epoch: 1 train accuracy: 0.1497 validation accuracy: 0.168 loss: 18.4047\n",
      "epoch: 2 train accuracy: 0.1707 validation accuracy: 0.184 loss: 18.3971\n",
      "epoch: 3 train accuracy: 0.1841 validation accuracy: 0.2006 loss: 18.3919\n",
      "epoch: 4 train accuracy: 0.1969 validation accuracy: 0.2122 loss: 18.3872\n",
      "epoch: 5 train accuracy: 0.2042 validation accuracy: 0.2198 loss: 18.3832\n",
      "epoch: 6 train accuracy: 0.2121 validation accuracy: 0.229 loss: 18.3795\n",
      "epoch: 7 train accuracy: 0.2172 validation accuracy: 0.2322 loss: 18.376\n",
      "epoch: 8 train accuracy: 0.221 validation accuracy: 0.2366 loss: 18.3729\n",
      "epoch: 9 train accuracy: 0.2235 validation accuracy: 0.2406 loss: 18.3698\n",
      "epoch: 10 train accuracy: 0.2273 validation accuracy: 0.2454 loss: 18.3671\n",
      "epoch: 11 train accuracy: 0.23 validation accuracy: 0.2468 loss: 18.3642\n",
      "epoch: 12 train accuracy: 0.2331 validation accuracy: 0.2508 loss: 18.3615\n",
      "epoch: 13 train accuracy: 0.2382 validation accuracy: 0.2554 loss: 18.3587\n",
      "epoch: 14 train accuracy: 0.2413 validation accuracy: 0.2598 loss: 18.3557\n",
      "epoch: 15 train accuracy: 0.2433 validation accuracy: 0.261 loss: 18.3529\n",
      "epoch: 16 train accuracy: 0.245 validation accuracy: 0.264 loss: 18.3499\n",
      "epoch: 17 train accuracy: 0.2471 validation accuracy: 0.2644 loss: 18.3469\n",
      "epoch: 18 train accuracy: 0.2491 validation accuracy: 0.267 loss: 18.344\n",
      "epoch: 19 train accuracy: 0.2517 validation accuracy: 0.2712 loss: 18.3411\n",
      "epoch: 20 train accuracy: 0.2546 validation accuracy: 0.2742 loss: 18.338\n",
      "epoch: 21 train accuracy: 0.2579 validation accuracy: 0.2792 loss: 18.3349\n",
      "epoch: 22 train accuracy: 0.2607 validation accuracy: 0.2826 loss: 18.3317\n",
      "epoch: 23 train accuracy: 0.2629 validation accuracy: 0.2858 loss: 18.3284\n",
      "epoch: 24 train accuracy: 0.2654 validation accuracy: 0.288 loss: 18.3251\n",
      "epoch: 25 train accuracy: 0.2666 validation accuracy: 0.3606 loss: 18.3216\n",
      "epoch: 26 train accuracy: 0.3362 validation accuracy: 0.3638 loss: 18.3181\n",
      "epoch: 27 train accuracy: 0.3381 validation accuracy: 0.364 loss: 18.3146\n",
      "epoch: 28 train accuracy: 0.3391 validation accuracy: 0.3666 loss: 18.311\n",
      "epoch: 29 train accuracy: 0.3397 validation accuracy: 0.3678 loss: 18.3073\n",
      "epoch: 30 train accuracy: 0.3409 validation accuracy: 0.3672 loss: 18.3034\n",
      "epoch: 31 train accuracy: 0.3414 validation accuracy: 0.3682 loss: 18.2996\n",
      "epoch: 32 train accuracy: 0.3419 validation accuracy: 0.3684 loss: 18.2956\n",
      "epoch: 33 train accuracy: 0.3424 validation accuracy: 0.3698 loss: 18.2915\n",
      "epoch: 34 train accuracy: 0.3428 validation accuracy: 0.3688 loss: 18.2873\n",
      "epoch: 35 train accuracy: 0.3435 validation accuracy: 0.3692 loss: 18.283\n",
      "epoch: 36 train accuracy: 0.3525 validation accuracy: 0.3856 loss: 18.2785\n",
      "epoch: 37 train accuracy: 0.3712 validation accuracy: 0.3852 loss: 18.2739\n",
      "epoch: 38 train accuracy: 0.3717 validation accuracy: 0.3862 loss: 18.2691\n",
      "epoch: 39 train accuracy: 0.3901 validation accuracy: 0.4546 loss: 18.2644\n",
      "epoch: 40 train accuracy: 0.4463 validation accuracy: 0.458 loss: 18.2594\n",
      "epoch: 41 train accuracy: 0.4482 validation accuracy: 0.4598 loss: 18.2543\n",
      "epoch: 42 train accuracy: 0.45 validation accuracy: 0.462 loss: 18.2494\n",
      "epoch: 43 train accuracy: 0.4526 validation accuracy: 0.4642 loss: 18.2444\n",
      "epoch: 44 train accuracy: 0.4544 validation accuracy: 0.4658 loss: 18.2392\n",
      "epoch: 45 train accuracy: 0.4554 validation accuracy: 0.4664 loss: 18.234\n",
      "epoch: 46 train accuracy: 0.4566 validation accuracy: 0.467 loss: 18.2287\n",
      "epoch: 47 train accuracy: 0.4577 validation accuracy: 0.468 loss: 18.2233\n",
      "epoch: 48 train accuracy: 0.4585 validation accuracy: 0.4712 loss: 18.218\n",
      "epoch: 49 train accuracy: 0.4593 validation accuracy: 0.4686 loss: 18.2124\n",
      "\n",
      " test_accuracy:  tensor(0.4659)\n",
      "\n",
      "--------------------------------------------------------------------------------\n",
      "\n",
      "Treinando a rede para 2 Camadas \n",
      "\n",
      "epoch: 0 train accuracy: 0.1939 validation accuracy: 0.2736 loss: 18.0821\n",
      "epoch: 1 train accuracy: 0.2926 validation accuracy: 0.356 loss: 17.3091\n",
      "epoch: 2 train accuracy: 0.3878 validation accuracy: 0.4388 loss: 16.5602\n",
      "epoch: 3 train accuracy: 0.4527 validation accuracy: 0.5624 loss: 16.0416\n",
      "epoch: 4 train accuracy: 0.5625 validation accuracy: 0.5828 loss: 15.172\n",
      "epoch: 5 train accuracy: 0.5725 validation accuracy: 0.5876 loss: 15.0905\n",
      "epoch: 6 train accuracy: 0.5827 validation accuracy: 0.5916 loss: 15.0058\n",
      "epoch: 7 train accuracy: 0.6199 validation accuracy: 0.5364 loss: 14.7106\n",
      "epoch: 8 train accuracy: 0.6525 validation accuracy: 0.7454 loss: 14.4532\n",
      "epoch: 9 train accuracy: 0.7051 validation accuracy: 0.75 loss: 14.0347\n",
      "epoch: 10 train accuracy: 0.7212 validation accuracy: 0.7412 loss: 13.9144\n",
      "epoch: 11 train accuracy: 0.7364 validation accuracy: 0.7284 loss: 13.788\n",
      "epoch: 12 train accuracy: 0.7412 validation accuracy: 0.7748 loss: 13.7511\n",
      "epoch: 13 train accuracy: 0.7873 validation accuracy: 0.8532 loss: 13.3886\n",
      "epoch: 14 train accuracy: 0.8437 validation accuracy: 0.8884 loss: 12.9449\n",
      "epoch: 15 train accuracy: 0.9039 validation accuracy: 0.9414 loss: 12.4717\n",
      "epoch: 16 train accuracy: 0.9279 validation accuracy: 0.9452 loss: 12.2742\n",
      "epoch: 17 train accuracy: 0.9329 validation accuracy: 0.9454 loss: 12.2374\n",
      "epoch: 18 train accuracy: 0.9379 validation accuracy: 0.9526 loss: 12.2028\n",
      "epoch: 19 train accuracy: 0.9414 validation accuracy: 0.9526 loss: 12.1713\n",
      "epoch: 20 train accuracy: 0.9457 validation accuracy: 0.9568 loss: 12.1379\n",
      "epoch: 21 train accuracy: 0.9397 validation accuracy: 0.954 loss: 12.1895\n",
      "epoch: 22 train accuracy: 0.949 validation accuracy: 0.9602 loss: 12.114\n",
      "epoch: 23 train accuracy: 0.9528 validation accuracy: 0.9588 loss: 12.0826\n",
      "epoch: 24 train accuracy: 0.9504 validation accuracy: 0.95 loss: 12.1002\n",
      "epoch: 25 train accuracy: 0.9523 validation accuracy: 0.9648 loss: 12.0871\n",
      "epoch: 26 train accuracy: 0.9573 validation accuracy: 0.9592 loss: 12.0475\n",
      "epoch: 27 train accuracy: 0.957 validation accuracy: 0.9544 loss: 12.049\n",
      "epoch: 28 train accuracy: 0.9565 validation accuracy: 0.9548 loss: 12.0523\n",
      "epoch: 29 train accuracy: 0.9584 validation accuracy: 0.9648 loss: 12.0362\n",
      "epoch: 30 train accuracy: 0.9627 validation accuracy: 0.966 loss: 12.0037\n",
      "epoch: 31 train accuracy: 0.9629 validation accuracy: 0.962 loss: 12.0038\n",
      "epoch: 32 train accuracy: 0.9624 validation accuracy: 0.9656 loss: 12.0061\n",
      "epoch: 33 train accuracy: 0.9621 validation accuracy: 0.9644 loss: 12.0066\n",
      "epoch: 34 train accuracy: 0.9645 validation accuracy: 0.9678 loss: 11.9881\n",
      "epoch: 35 train accuracy: 0.9668 validation accuracy: 0.968 loss: 11.9704\n",
      "epoch: 36 train accuracy: 0.9679 validation accuracy: 0.965 loss: 11.9624\n",
      "epoch: 37 train accuracy: 0.9629 validation accuracy: 0.9588 loss: 12.0014\n",
      "epoch: 38 train accuracy: 0.9666 validation accuracy: 0.9674 loss: 11.9722\n",
      "epoch: 39 train accuracy: 0.9695 validation accuracy: 0.968 loss: 11.9484\n",
      "epoch: 40 train accuracy: 0.9703 validation accuracy: 0.967 loss: 11.9428\n",
      "epoch: 41 train accuracy: 0.9697 validation accuracy: 0.966 loss: 11.9472\n",
      "epoch: 42 train accuracy: 0.9704 validation accuracy: 0.9696 loss: 11.9438\n",
      "epoch: 43 train accuracy: 0.9704 validation accuracy: 0.9632 loss: 11.9437\n",
      "epoch: 44 train accuracy: 0.9702 validation accuracy: 0.9696 loss: 11.9427\n",
      "epoch: 45 train accuracy: 0.9732 validation accuracy: 0.9706 loss: 11.918\n",
      "epoch: 46 train accuracy: 0.9739 validation accuracy: 0.97 loss: 11.9138\n",
      "epoch: 47 train accuracy: 0.9746 validation accuracy: 0.9704 loss: 11.9077\n",
      "epoch: 48 train accuracy: 0.9752 validation accuracy: 0.971 loss: 11.9037\n",
      "epoch: 49 train accuracy: 0.9753 validation accuracy: 0.9698 loss: 11.9027\n",
      "\n",
      " test_accuracy:  tensor(0.9615)\n",
      "\n",
      "--------------------------------------------------------------------------------\n",
      "\n",
      "Treinando a rede para 3 Camadas \n",
      "\n",
      "epoch: 0 train accuracy: 0.1198 validation accuracy: 0.1882 loss: 18.6253\n",
      "epoch: 1 train accuracy: 0.344 validation accuracy: 0.4274 loss: 16.8763\n",
      "epoch: 2 train accuracy: 0.4638 validation accuracy: 0.6122 loss: 15.9318\n",
      "epoch: 3 train accuracy: 0.6442 validation accuracy: 0.6832 loss: 14.5432\n",
      "epoch: 4 train accuracy: 0.7141 validation accuracy: 0.7132 loss: 13.9934\n",
      "epoch: 5 train accuracy: 0.74 validation accuracy: 0.7668 loss: 13.7781\n",
      "epoch: 6 train accuracy: 0.7657 validation accuracy: 0.8608 loss: 13.5927\n",
      "epoch: 7 train accuracy: 0.8794 validation accuracy: 0.928 loss: 12.6918\n",
      "epoch: 8 train accuracy: 0.8949 validation accuracy: 0.9268 loss: 12.5678\n",
      "epoch: 9 train accuracy: 0.9125 validation accuracy: 0.9368 loss: 12.4262\n",
      "epoch: 10 train accuracy: 0.9193 validation accuracy: 0.9188 loss: 12.371\n",
      "epoch: 11 train accuracy: 0.9164 validation accuracy: 0.9398 loss: 12.3953\n",
      "epoch: 12 train accuracy: 0.9309 validation accuracy: 0.9446 loss: 12.2774\n",
      "epoch: 13 train accuracy: 0.9369 validation accuracy: 0.9468 loss: 12.2254\n",
      "epoch: 14 train accuracy: 0.9397 validation accuracy: 0.9496 loss: 12.2068\n",
      "epoch: 15 train accuracy: 0.9415 validation accuracy: 0.9554 loss: 12.1904\n",
      "epoch: 16 train accuracy: 0.9442 validation accuracy: 0.9536 loss: 12.1696\n",
      "epoch: 17 train accuracy: 0.9483 validation accuracy: 0.953 loss: 12.1385\n",
      "epoch: 18 train accuracy: 0.945 validation accuracy: 0.9426 loss: 12.1571\n",
      "epoch: 19 train accuracy: 0.9431 validation accuracy: 0.963 loss: 12.1734\n",
      "epoch: 20 train accuracy: 0.9553 validation accuracy: 0.9602 loss: 12.0772\n",
      "epoch: 21 train accuracy: 0.9559 validation accuracy: 0.9608 loss: 12.0745\n",
      "epoch: 22 train accuracy: 0.9593 validation accuracy: 0.9628 loss: 12.0508\n",
      "epoch: 23 train accuracy: 0.9596 validation accuracy: 0.9562 loss: 12.0424\n",
      "epoch: 24 train accuracy: 0.9569 validation accuracy: 0.9604 loss: 12.0621\n",
      "epoch: 25 train accuracy: 0.9626 validation accuracy: 0.9624 loss: 12.0185\n",
      "epoch: 26 train accuracy: 0.9456 validation accuracy: 0.9598 loss: 12.1507\n",
      "epoch: 27 train accuracy: 0.961 validation accuracy: 0.966 loss: 12.0302\n",
      "epoch: 28 train accuracy: 0.9647 validation accuracy: 0.966 loss: 11.999\n",
      "epoch: 29 train accuracy: 0.9663 validation accuracy: 0.9688 loss: 11.9874\n",
      "epoch: 30 train accuracy: 0.9674 validation accuracy: 0.9672 loss: 11.9771\n",
      "epoch: 31 train accuracy: 0.9685 validation accuracy: 0.966 loss: 11.9689\n",
      "epoch: 32 train accuracy: 0.9685 validation accuracy: 0.9654 loss: 11.9694\n",
      "epoch: 33 train accuracy: 0.9654 validation accuracy: 0.9606 loss: 11.9943\n",
      "epoch: 34 train accuracy: 0.9679 validation accuracy: 0.9696 loss: 11.9722\n",
      "epoch: 35 train accuracy: 0.9706 validation accuracy: 0.9682 loss: 11.9485\n",
      "epoch: 36 train accuracy: 0.9713 validation accuracy: 0.9676 loss: 11.9434\n",
      "epoch: 37 train accuracy: 0.9722 validation accuracy: 0.967 loss: 11.9376\n",
      "epoch: 38 train accuracy: 0.9711 validation accuracy: 0.9642 loss: 11.9481\n",
      "epoch: 39 train accuracy: 0.9726 validation accuracy: 0.971 loss: 11.9339\n",
      "epoch: 40 train accuracy: 0.9738 validation accuracy: 0.9704 loss: 11.925\n",
      "epoch: 41 train accuracy: 0.9748 validation accuracy: 0.9698 loss: 11.9175\n",
      "epoch: 42 train accuracy: 0.9751 validation accuracy: 0.9684 loss: 11.9127\n",
      "epoch: 43 train accuracy: 0.9587 validation accuracy: 0.9636 loss: 12.0444\n",
      "epoch: 44 train accuracy: 0.9699 validation accuracy: 0.971 loss: 11.9538\n",
      "epoch: 45 train accuracy: 0.9762 validation accuracy: 0.9712 loss: 11.9036\n",
      "epoch: 46 train accuracy: 0.9767 validation accuracy: 0.9702 loss: 11.8965\n",
      "epoch: 47 train accuracy: 0.9777 validation accuracy: 0.972 loss: 11.8914\n",
      "epoch: 48 train accuracy: 0.978 validation accuracy: 0.9724 loss: 11.8871\n",
      "epoch: 49 train accuracy: 0.9782 validation accuracy: 0.971 loss: 11.8869\n",
      "\n",
      " test_accuracy:  tensor(0.9637)\n",
      "\n",
      "--------------------------------------------------------------------------------\n",
      "\n"
     ]
    }
   ],
   "source": [
    "nets = [Network_Log(), Network1(), Network2(), Network3()] # Vetor de possíveia redes de estudo\n",
    "nomes = [\"Multinomial Logística\", \"1 Camada\", \"2 Camadas\", \"3 Camadas\"] # Criando um vetor com nomes das possíveis redes\n",
    "\n",
    "# Definindo constantes importantes para a rede\n",
    "n = 55000\n",
    "p = 28*28\n",
    "batch_size = 6875\n",
    "n_epochs = 50\n",
    "\n",
    "# Extraindo os vetores X de validação e Y de respostas\n",
    "X_valid = validation_data[:, 1:(p+1)]\n",
    "y_valid = validation_data[:, 0]\n",
    "\n",
    "# Armazenando as precisões dos modelos\n",
    "precisoes = np.empty((len(nets), n_epochs))\n",
    "\n",
    "for i, net in enumerate(nets):\n",
    "  network = net # Criando uma várivel com a rede a ser usada em cada iteração\n",
    "\n",
    "  train_loader = torch.utils.data.DataLoader(training_data, batch_size = batch_size) # Definindo os batchs das iterações\n",
    "  optimizer = torch.optim.SGD(network.parameters(), lr=0.1) # Definindo a otimização dos pesos a partir do gamma definido anteriormente\n",
    "\n",
    "  print(f\"Treinando a rede para {nomes[i]} \\n\") #Identificando o começo do treinamento para o gamma específico a partir do print\n",
    "\n",
    "  for epoch in range(n_epochs): # Fazendo as iterações das épocas\n",
    "\n",
    "    total_loss = 0\n",
    "    total_accuracy = 0\n",
    "\n",
    "    for data_batch in train_loader: # Pegando cada um  dos batchs criado\n",
    "# Criando os vetores X do batch e Y de respostas\n",
    "        X_batch = data_batch[:, 1:(p+1)]\n",
    "        y_batch = data_batch[:, 0]\n",
    "\n",
    "        y_hat_batch = network(X_batch) # Calculando o vetor de resposta a partir do batch criado\n",
    "        loss = F.cross_entropy(y_hat_batch, y_batch.type(torch.LongTensor) ) # Calculando a perda\n",
    "\n",
    "        optimizer.zero_grad() # Zerando\n",
    "        loss.backward() # Calculando o gradiente\n",
    "        optimizer.step() # Atualizando os pesos\n",
    "\n",
    "# Calculando a perda e acurácia da rede\n",
    "        total_loss += loss.item()\n",
    "        total_accuracy += get_accuracy(y_hat_batch, y_batch)\n",
    "\n",
    "    # Criando o print de resultados para cada época\n",
    "    if epoch % 1 == 0:\n",
    "\n",
    "      # calculate accuracy on validation dataset\n",
    "      y_hat_valid = network(X_valid)\n",
    "      valid_accuracy = get_accuracy(y_hat_valid, y_valid) # Calculando a acurácia\n",
    "\n",
    "      # Gerando o print do resultado da época\n",
    "      print(\n",
    "          \"epoch:\", epoch,\n",
    "          \"train accuracy:\", round( (total_accuracy/(n/batch_size)).item(), 4),\n",
    "          \"validation accuracy:\", round( valid_accuracy.item(), 4),\n",
    "          \"loss:\", round(total_loss, 4)\n",
    "      )\n",
    "\n",
    "      # Armazenando a evolução da acurácia do modelo\n",
    "      precisoes[i][epoch] = round(valid_accuracy.item(), 4)\n",
    "\n",
    "  # Criando os vetores X do teste e Y de respostas\n",
    "  X_test = test_data[:, 1:(p+1)]\n",
    "  y_test = test_data[:, 0]\n",
    "\n",
    "  # Usando o modelo treinado para predizer resultados sobre o conjunto teste (desconhecido para a rede)\n",
    "  y_hat_test = network(X_test)\n",
    "  test_accuracy = get_accuracy(y_hat_test, y_test)\n",
    "\n",
    "  print(\"\\n test_accuracy: \", test_accuracy) # Print da acurácia relacionada ao conjunto teste\n",
    "\n",
    "  print(\"\\n\" + 80*\"-\" + \"\\n\") # Separando os resultados das redes distintas"
   ]
  },
  {
   "cell_type": "markdown",
   "metadata": {},
   "source": [
    "## Plote da precisão no conjunto de validação a cada época para cada um dos 3 modelos MLP e do modelo de regressão multinomial logística e reporte do melhor deles com base no gráfico."
   ]
  },
  {
   "cell_type": "code",
   "execution_count": 35,
   "metadata": {
    "colab": {
     "base_uri": "https://localhost:8080/",
     "height": 489
    },
    "id": "ovmG58z-My4U",
    "outputId": "e5b26af4-80fc-4866-a61c-a5d66f3554bd"
   },
   "outputs": [
    {
     "data": {
      "text/plain": [
       "<matplotlib.legend.Legend at 0x7f81c5dfcf70>"
      ]
     },
     "execution_count": 35,
     "metadata": {},
     "output_type": "execute_result"
    },
    {
     "data": {
      "image/png": "[encoded data removed]",
      "text/plain": [
       "<Figure size 432x288 with 1 Axes>"
      ]
     },
     "metadata": {
      "needs_background": "light"
     },
     "output_type": "display_data"
    }
   ],
   "source": [
    "epochs = range(1, n_epochs+1) # Criando o vetor de épocas para o print\n",
    "\n",
    "for i in range(len(nets)): # Fazendo o print para cada evolução das redes trabalhadas\n",
    "  plt.plot(epochs, 100*precisoes[i], label = f\"{nomes[i]}\")\n",
    "\n",
    "# Criando algumas descrições para o plot\n",
    "plt.title(\"Progresso da precisão no conjunto de validação a cada epoch\")\n",
    "plt.xlabel(\"Epoch\")\n",
    "plt.ylabel(\"Precisão (%)\")\n",
    "plt.legend()"
   ]
  },
  {
   "cell_type": "markdown",
   "metadata": {
    "id": "xMe8_W10SXDK"
   },
   "source": [
    "## Combinando o resultado dos 4 modelos treinados - regressão multinomial logística, MLP com 1 camada, MLP com 2 camadas, MLP com 3 camadas - e tirando a média entre as estimativas para as probabilidades de cada classe segundo cada um dos modelos no conjunto de validação. \n",
    "OBS: O modelo combinado (também chamado de ensemble) terá como ouput o valor médio das previsões individuais."
   ]
  },
  {
   "cell_type": "code",
   "execution_count": 36,
   "metadata": {
    "colab": {
     "base_uri": "https://localhost:8080/"
    },
    "id": "N4LnazkBS2GF",
    "outputId": "2dddb9f4-d634-467b-bece-3bf26896910f"
   },
   "outputs": [
    {
     "name": "stdout",
     "output_type": "stream",
     "text": [
      "epoch: 0 train accuracy: 0.4082 validation accuracy: 0.5738 loss: 42.8446\n",
      "epoch: 1 train accuracy: 0.5808 validation accuracy: 0.6416 loss: 40.3816\n",
      "epoch: 2 train accuracy: 0.7067 validation accuracy: 0.7634 loss: 39.5679\n",
      "epoch: 3 train accuracy: 0.7432 validation accuracy: 0.7768 loss: 39.0485\n",
      "epoch: 4 train accuracy: 0.753 validation accuracy: 0.7844 loss: 38.6536\n",
      "epoch: 5 train accuracy: 0.7633 validation accuracy: 0.788 loss: 38.3549\n",
      "epoch: 6 train accuracy: 0.7716 validation accuracy: 0.7948 loss: 38.0564\n",
      "epoch: 7 train accuracy: 0.7772 validation accuracy: 0.8012 loss: 37.8013\n",
      "epoch: 8 train accuracy: 0.7695 validation accuracy: 0.7886 loss: 37.4179\n",
      "epoch: 9 train accuracy: 0.7717 validation accuracy: 0.788 loss: 37.2264\n",
      "epoch: 10 train accuracy: 0.7752 validation accuracy: 0.7942 loss: 37.0076\n",
      "epoch: 11 train accuracy: 0.7792 validation accuracy: 0.7928 loss: 36.8662\n",
      "epoch: 12 train accuracy: 0.7845 validation accuracy: 0.7964 loss: 36.8227\n",
      "epoch: 13 train accuracy: 0.788 validation accuracy: 0.8004 loss: 36.7714\n",
      "epoch: 14 train accuracy: 0.791 validation accuracy: 0.8016 loss: 36.736\n",
      "epoch: 15 train accuracy: 0.7981 validation accuracy: 0.8116 loss: 36.6917\n",
      "epoch: 16 train accuracy: 0.8029 validation accuracy: 0.8122 loss: 36.6599\n",
      "epoch: 17 train accuracy: 0.8085 validation accuracy: 0.8148 loss: 36.645\n",
      "epoch: 18 train accuracy: 0.8131 validation accuracy: 0.8184 loss: 36.6091\n",
      "epoch: 19 train accuracy: 0.8177 validation accuracy: 0.8224 loss: 36.5959\n",
      "epoch: 20 train accuracy: 0.8201 validation accuracy: 0.826 loss: 36.5801\n",
      "epoch: 21 train accuracy: 0.8255 validation accuracy: 0.8236 loss: 36.5745\n",
      "epoch: 22 train accuracy: 0.8271 validation accuracy: 0.8332 loss: 36.5453\n",
      "epoch: 23 train accuracy: 0.8301 validation accuracy: 0.8406 loss: 36.5325\n",
      "epoch: 24 train accuracy: 0.8365 validation accuracy: 0.85 loss: 36.5189\n",
      "epoch: 25 train accuracy: 0.8397 validation accuracy: 0.8468 loss: 36.5133\n",
      "epoch: 26 train accuracy: 0.8424 validation accuracy: 0.852 loss: 36.4982\n",
      "epoch: 27 train accuracy: 0.8467 validation accuracy: 0.8608 loss: 36.4842\n",
      "epoch: 28 train accuracy: 0.8489 validation accuracy: 0.8578 loss: 36.4739\n",
      "epoch: 29 train accuracy: 0.849 validation accuracy: 0.8598 loss: 36.463\n",
      "epoch: 30 train accuracy: 0.8528 validation accuracy: 0.864 loss: 36.4614\n",
      "epoch: 31 train accuracy: 0.8557 validation accuracy: 0.8652 loss: 36.4422\n",
      "epoch: 32 train accuracy: 0.8563 validation accuracy: 0.8674 loss: 36.4281\n",
      "epoch: 33 train accuracy: 0.86 validation accuracy: 0.872 loss: 36.4273\n",
      "epoch: 34 train accuracy: 0.8628 validation accuracy: 0.8616 loss: 36.4123\n",
      "epoch: 35 train accuracy: 0.8658 validation accuracy: 0.867 loss: 36.4107\n",
      "epoch: 36 train accuracy: 0.8681 validation accuracy: 0.8698 loss: 36.3999\n",
      "epoch: 37 train accuracy: 0.8684 validation accuracy: 0.8798 loss: 36.3923\n",
      "epoch: 38 train accuracy: 0.8723 validation accuracy: 0.8786 loss: 36.3921\n",
      "epoch: 39 train accuracy: 0.8716 validation accuracy: 0.8738 loss: 36.3841\n",
      "epoch: 40 train accuracy: 0.8737 validation accuracy: 0.8788 loss: 36.3715\n",
      "epoch: 41 train accuracy: 0.8763 validation accuracy: 0.8736 loss: 36.3674\n",
      "epoch: 42 train accuracy: 0.8755 validation accuracy: 0.8834 loss: 36.3566\n",
      "epoch: 43 train accuracy: 0.8791 validation accuracy: 0.8804 loss: 36.3546\n",
      "epoch: 44 train accuracy: 0.8756 validation accuracy: 0.878 loss: 36.3593\n",
      "epoch: 45 train accuracy: 0.8801 validation accuracy: 0.881 loss: 36.3373\n",
      "epoch: 46 train accuracy: 0.8825 validation accuracy: 0.8788 loss: 36.3247\n",
      "epoch: 47 train accuracy: 0.8817 validation accuracy: 0.889 loss: 36.3225\n",
      "epoch: 48 train accuracy: 0.8839 validation accuracy: 0.886 loss: 36.3165\n",
      "epoch: 49 train accuracy: 0.8856 validation accuracy: 0.889 loss: 36.3196\n",
      "\n",
      " test_accuracy:  tensor(0.8793)\n"
     ]
    }
   ],
   "source": [
    "nets = [Network_Log(), Network1(), Network2(), Network3()] # Vetor das redes que serão usadas no modelo\n",
    "\n",
    "# Definindo constantes importantes para a rede\n",
    "n = 55000\n",
    "p = 28*28\n",
    "batch_size = 2750\n",
    "n_epochs = 50\n",
    "\n",
    "# Extraindo os vetores X de validação e Y de respostas\n",
    "X_valid = validation_data[:, 1:(p+1)]\n",
    "y_valid = validation_data[:, 0]\n",
    "\n",
    "# Armazenando as precisões dos modelos\n",
    "precisoes = np.empty(n_epochs)\n",
    "\n",
    "# create network as an instance of Network() class defined previously\n",
    "\n",
    "train_loader = torch.utils.data.DataLoader(training_data, batch_size = batch_size) # Definindo os batchs das iterações\n",
    "optimizers = [torch.optim.SGD(network.parameters(), lr=0.1) for network in nets] # Definindo a otimização dos pesos a partir do gamma definido\n",
    "\n",
    "for epoch in range(n_epochs):\n",
    "\n",
    "  total_loss = 0\n",
    "  total_accuracy = 0\n",
    "\n",
    "  for data_batch in train_loader: # Pegando cada um  dos batchs criado\n",
    "# Criando os vetores X do batch e Y de respostas\n",
    "      X_batch = data_batch[:, 1:(p+1)]\n",
    "      y_batch = data_batch[:, 0]\n",
    "\n",
    "      # Calculando o um tensor médio a partir da média dos tensores individuais de cada rede\n",
    "      y_hat_batchs_modelos = [network(X_batch) for network in nets]\n",
    "      stacked_tensors = torch.stack(y_hat_batchs_modelos , dim=0)\n",
    "\n",
    "      y_hat_batch = torch.mean(stacked_tensors, dim=0) # Calculando o vetor de resposta a partir do batch criado\n",
    "\n",
    "      loss = F.cross_entropy(y_hat_batch, y_batch.type(torch.LongTensor) ) # Calculando a perda\n",
    "\n",
    "      # Zerando todos os otimizadores\n",
    "      for optimizer in optimizers:\n",
    "        optimizer.zero_grad()\n",
    "\n",
    "      loss.backward() # Calculando o gradiente\n",
    "\n",
    "      # Atualizando os pesos de cada rede\n",
    "      for optimizer in optimizers:\n",
    "        optimizer.step()\n",
    "\n",
    "      # Calculando a perda e acurácia da rede\n",
    "      total_loss += loss.item()\n",
    "      total_accuracy += get_accuracy(y_hat_batch, y_batch)\n",
    "\n",
    "  # Gerando o print do resultado da época\n",
    "  if epoch % 1 == 0:\n",
    "\n",
    "    # Calculando o um tensor médio a partir da média dos tensores individuais de cada rede\n",
    "    y_hat_valids_modelos = [network(X_valid) for network in nets]\n",
    "    stacked_tensors = torch.stack(y_hat_valids_modelos, dim=0)\n",
    "\n",
    "    # Respostas do modelo\n",
    "    y_hat_valid = torch.mean(stacked_tensors, dim=0)\n",
    "\n",
    "    valid_accuracy = get_accuracy(y_hat_valid, y_valid) # Calculando a acurácia\n",
    "\n",
    "    print(\n",
    "        \"epoch:\", epoch,\n",
    "        \"train accuracy:\", round( (total_accuracy/(n/batch_size)).item(), 4),\n",
    "        \"validation accuracy:\", round( valid_accuracy.item(), 4),\n",
    "        \"loss:\", round(total_loss, 4)\n",
    "    )\n",
    "\n",
    "  # Armazenando a evolução da acurácia do modelo\n",
    "  precisoes[epoch] = round(valid_accuracy.item(), 4)\n",
    "\n",
    "\n",
    "# Criando os vetores X do teste e Y de respostas\n",
    "X_test = test_data[:, 1:(p+1)]\n",
    "y_test = test_data[:, 0]\n",
    "\n",
    "# Usando o modelo treinado para predizer resultados sobre o conjunto teste (desconhecido para a rede)\n",
    "\n",
    "# Calculando o um tensor médio a partir da média dos tensores individuais de cada rede\n",
    "y_hat_tests_modelos = [network(X_test) for network in nets]\n",
    "stacked_tensors = torch.stack(y_hat_tests_modelos, dim=0)\n",
    "\n",
    "# Respostas do modelo\n",
    "y_hat_test = torch.mean(stacked_tensors, dim=0)\n",
    "\n",
    "test_accuracy = get_accuracy(y_hat_test, y_test) # Calculando a acurácia do modelo a partir do conjunto teste (desconhecido pelo modelo)\n",
    "\n",
    "print(\"\\n test_accuracy: \", test_accuracy) # Print da acurácia do modelo a partir do conjunto teste (desconhecido pelo modelo)"
   ]
  },
  {
   "cell_type": "markdown",
   "metadata": {
    "id": "73SCtpIV91WW"
   },
   "source": [
    "O modelo a cima possui uma acurácia razoavelmente próxima a rede da letra c, contudo ele atingiu de forma muito mais rápida uma boa acurácia de validação se comparado à rede da letra c"
   ]
  },
  {
   "cell_type": "code",
   "execution_count": 37,
   "metadata": {
    "colab": {
     "base_uri": "https://localhost:8080/",
     "height": 489
    },
    "id": "gz7Mk7a4czuq",
    "outputId": "10906db3-55aa-4cc2-ff2d-456d0d6bbdc1"
   },
   "outputs": [
    {
     "data": {
      "text/plain": [
       "<matplotlib.legend.Legend at 0x7f81c5ce90a0>"
      ]
     },
     "execution_count": 37,
     "metadata": {},
     "output_type": "execute_result"
    },
    {
     "data": {
      "image/png": "[encoded data removed]",
      "text/plain": [
       "<Figure size 432x288 with 1 Axes>"
      ]
     },
     "metadata": {
      "needs_background": "light"
     },
     "output_type": "display_data"
    }
   ],
   "source": [
    "epochs = range(1, n_epochs+1) # Criando o vetor de épocas para oi plot\n",
    "\n",
    "plt.plot(epochs, 100*precisoes, label = \"Modelo médio\") # Plotando a precisão do modelo passado\n",
    "\n",
    "# Criando algumas descrições do plot\n",
    "plt.title(\"Progresso da precisão no conjunto de validação a cada epoch\")\n",
    "plt.xlabel(\"Epoch\")\n",
    "plt.ylabel(\"Precisão (%)\")\n",
    "plt.legend()"
   ]
  },
  {
   "cell_type": "markdown",
   "metadata": {},
   "source": [
    "## Plote de alguns erros"
   ]
  },
  {
   "cell_type": "code",
   "execution_count": 38,
   "metadata": {
    "colab": {
     "base_uri": "https://localhost:8080/",
     "height": 159
    },
    "id": "5guTUOWOPU8T",
    "outputId": "6f32dfd9-5e50-4b91-87b0-df4bade4bb78"
   },
   "outputs": [],
   "source": [
    "topk_values, topk_indices = torch.topk(y_hat_test, 1, dim=1)\n",
    "topk_indices = y_hat_test.argmax(dim=1)"
   ]
  },
  {
   "cell_type": "code",
   "execution_count": 40,
   "metadata": {
    "colab": {
     "base_uri": "https://localhost:8080/",
     "height": 211
    },
    "id": "Q7-KrMvrRvCh",
    "outputId": "0ed37ba3-0ffe-4d23-8ca1-a654775771b6"
   },
   "outputs": [
    {
     "data": {
      "image/png": "[encoded data removed]",
      "text/plain": [
       "<Figure size 1440x792 with 50 Axes>"
      ]
     },
     "metadata": {
      "needs_background": "light"
     },
     "output_type": "display_data"
    }
   ],
   "source": [
    "# Fazendo o mesmo loop a cima para as mesma intenção só que com mais imagens\n",
    "\n",
    "plt.figure(figsize=(20, 11))\n",
    "cont = 0\n",
    "\n",
    "for obs in range(0,10000):\n",
    "  label = test_data_np[obs, 0]\n",
    "  comp_ans = int(topk_indices[obs])\n",
    "  porc = float(topk_values[obs])\n",
    "\n",
    "  if label != comp_ans and porc<0.7:\n",
    "\n",
    "    if cont<50:\n",
    "      ax = plt.subplot(5, 10, cont + 1)\n",
    "      plt.imshow(test_data_np[obs, 1:].reshape((28, 28)))\n",
    "      ax.set_title(f'Resposta real da imagem: {label} \\n Resposta do computador: {comp_ans} \\n Certeza do computador: {round(100*porc, 2)}%', fontsize = 6)\n",
    "      plt.gray()\n",
    "      ax.get_xaxis().set_visible(False)\n",
    "      ax.get_yaxis().set_visible(False)\n",
    "\n",
    "      cont += 1\n",
    "\n",
    "    else: break\n",
    "\n",
    "plt.show()"
   ]
  }
 ],
 "metadata": {
  "colab": {
   "collapsed_sections": [
    "qOYrKrDze0QA",
    "ig1sBifmfb8J",
    "foebh385iUfc",
    "XIhqIMaoiUwk",
    "uZIe62hhZZJh"
   ],
   "provenance": []
  },
  "kernelspec": {
   "display_name": "Python 3 (ipykernel)",
   "language": "python",
   "name": "python3"
  },
  "language_info": {
   "codemirror_mode": {
    "name": "ipython",
    "version": 3
   },
   "file_extension": ".py",
   "mimetype": "text/x-python",
   "name": "python",
   "nbconvert_exporter": "python",
   "pygments_lexer": "ipython3",
   "version": "3.9.12"
  }
 },
 "nbformat": 4,
 "nbformat_minor": 1
}
